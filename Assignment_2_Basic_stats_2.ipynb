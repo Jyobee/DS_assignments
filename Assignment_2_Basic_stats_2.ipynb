{
 "cells": [
  {
   "cell_type": "markdown",
   "id": "b48d851d",
   "metadata": {},
   "source": [
    "# Estimation And Confidence Intervals"
   ]
  },
  {
   "cell_type": "markdown",
   "id": "fc618a9a",
   "metadata": {},
   "source": [
    "## Scenario:-"
   ]
  },
  {
   "cell_type": "markdown",
   "id": "3e205739",
   "metadata": {},
   "source": [
    "### A manufacturer of print-heads for personal computers is interested in estimating the mean durability of their print-heads in terms of the number of characters printed before failure. To assess this, the manufacturer conducts a study on a small sample of print-heads due to the destructive nature of the testing process."
   ]
  },
  {
   "cell_type": "markdown",
   "id": "78e0f3f3",
   "metadata": {},
   "source": [
    "## Data:-"
   ]
  },
  {
   "cell_type": "markdown",
   "id": "8c407bd5",
   "metadata": {},
   "source": [
    "### A total of 15 print-heads were randomly selected and tested until failure. The durability of each print-head (in millions of characters) was recorded as follows:-\n",
    "### 1.13, 1.55, 1.43, 0.92, 1.25, 1.36, 1.32, 0.85, 1.07, 1.48, 1.20, 1.33, 1.18, 1.22, 1.29"
   ]
  },
  {
   "cell_type": "markdown",
   "id": "3eb12b07",
   "metadata": {},
   "source": [
    "## Assignment Tasks:-"
   ]
  },
  {
   "cell_type": "markdown",
   "id": "c54fac52",
   "metadata": {},
   "source": [
    "### a.) Build 99% Confidence Interval Using Sample Standard Deviation\n",
    "### Assuming the sample is representative of the population, construct a 99% confidence interval for the mean number of characters printed before the print-head fails using the sample standard deviation. Explain the steps you take and the rationale behind using the t-distribution for this task."
   ]
  },
  {
   "cell_type": "code",
   "execution_count": 11,
   "id": "f9cb3003",
   "metadata": {},
   "outputs": [],
   "source": [
    "# Task (a): Confidence Interval Using Sample Standard Deviation\n",
    "import numpy as np\n",
    "import scipy.stats as stats"
   ]
  },
  {
   "cell_type": "code",
   "execution_count": 18,
   "id": "72ff2a2c",
   "metadata": {},
   "outputs": [
    {
     "data": {
      "text/plain": [
       "array([1.13, 1.55, 1.43, 0.92, 1.25, 1.36, 1.32, 0.85, 1.07, 1.48, 1.2 ,\n",
       "       1.33, 1.18, 1.22, 1.29])"
      ]
     },
     "execution_count": 18,
     "metadata": {},
     "output_type": "execute_result"
    }
   ],
   "source": [
    "# Given data\n",
    "data = np.array([1.13, 1.55, 1.43, 0.92, 1.25, 1.36, 1.32, 0.85, 1.07, 1.48, 1.20, 1.33, 1.18, 1.22, 1.29])\n",
    "data"
   ]
  },
  {
   "cell_type": "code",
   "execution_count": 19,
   "id": "0f212dde",
   "metadata": {},
   "outputs": [
    {
     "data": {
      "text/plain": [
       "15"
      ]
     },
     "execution_count": 19,
     "metadata": {},
     "output_type": "execute_result"
    }
   ],
   "source": [
    "# Sample size / Number of observations\n",
    "n = len(data)\n",
    "n"
   ]
  },
  {
   "cell_type": "code",
   "execution_count": 20,
   "id": "5d637a7f",
   "metadata": {},
   "outputs": [
    {
     "data": {
      "text/plain": [
       "1.2386666666666666"
      ]
     },
     "execution_count": 20,
     "metadata": {},
     "output_type": "execute_result"
    }
   ],
   "source": [
    "# calculating Sample mean\n",
    "sample_mean = np.mean(data)\n",
    "sample_mean"
   ]
  },
  {
   "cell_type": "code",
   "execution_count": 22,
   "id": "f97965f7",
   "metadata": {},
   "outputs": [
    {
     "data": {
      "text/plain": [
       "0.19316412956959936"
      ]
     },
     "execution_count": 22,
     "metadata": {},
     "output_type": "execute_result"
    }
   ],
   "source": [
    "# Calculating Sample standard deviation\n",
    "sample_std_dev = np.std(data, ddof=1)\n",
    "sample_std_dev"
   ]
  },
  {
   "cell_type": "code",
   "execution_count": 23,
   "id": "ebc679df",
   "metadata": {},
   "outputs": [
    {
     "data": {
      "text/plain": [
       "14"
      ]
     },
     "execution_count": 23,
     "metadata": {},
     "output_type": "execute_result"
    }
   ],
   "source": [
    "# Degrees of freedom\n",
    "df = n - 1\n",
    "df"
   ]
  },
  {
   "cell_type": "code",
   "execution_count": 24,
   "id": "e481c546",
   "metadata": {},
   "outputs": [
    {
     "data": {
      "text/plain": [
       "2.97684273411266"
      ]
     },
     "execution_count": 24,
     "metadata": {},
     "output_type": "execute_result"
    }
   ],
   "source": [
    "# t-value for 99% confidence and degree of freedom df = 14\n",
    "t_value = stats.t.ppf(1 - 0.005, df)\n",
    "t_value"
   ]
  },
  {
   "cell_type": "code",
   "execution_count": 26,
   "id": "8d626d04",
   "metadata": {},
   "outputs": [
    {
     "data": {
      "text/plain": [
       "0.1484693282152996"
      ]
     },
     "execution_count": 26,
     "metadata": {},
     "output_type": "execute_result"
    }
   ],
   "source": [
    "# Calculating Margin of Error\n",
    "ME_1 = t_value * (sample_std_dev / np.sqrt(n))\n",
    "ME_1"
   ]
  },
  {
   "cell_type": "code",
   "execution_count": 34,
   "id": "dab3a31e",
   "metadata": {},
   "outputs": [
    {
     "data": {
      "text/plain": [
       "(1.090197338451367, 1.3871359948819662)"
      ]
     },
     "execution_count": 34,
     "metadata": {},
     "output_type": "execute_result"
    }
   ],
   "source": [
    "# 99% Confidence Interval \n",
    "CI_1 = (sample_mean - ME_1 , sample_mean + ME_1)\n",
    "CI_1"
   ]
  },
  {
   "cell_type": "code",
   "execution_count": 35,
   "id": "194078b0",
   "metadata": {},
   "outputs": [
    {
     "name": "stdout",
     "output_type": "stream",
     "text": [
      "Sample Mean: 1.2386666666666666\n",
      "Sample Standard Deviation: 0.19316412956959936\n",
      "99% Confidence Interval (using sample standard deviation): (1.090197338451367, 1.3871359948819662)\n"
     ]
    }
   ],
   "source": [
    "print(\"Sample Mean:\", sample_mean)\n",
    "print(\"Sample Standard Deviation:\", sample_std_dev)\n",
    "print(\"99% Confidence Interval (using sample standard deviation):\", CI_1)"
   ]
  },
  {
   "cell_type": "markdown",
   "id": "d9f7a013",
   "metadata": {},
   "source": [
    "### b. Build 99% Confidence Interval Using Known Population Standard Deviation\n",
    "### If it were known that the population standard deviation is 0.2 million characters, construct a 99% confidence interval for the mean number of characters printed before failure."
   ]
  },
  {
   "cell_type": "code",
   "execution_count": 28,
   "id": "e23f03b6",
   "metadata": {},
   "outputs": [],
   "source": [
    "# Task (b): Confidence Interval Using Known Population Standard Deviation\n",
    "import numpy as np\n",
    "import scipy.stats as stats"
   ]
  },
  {
   "cell_type": "code",
   "execution_count": 29,
   "id": "57dd45b2",
   "metadata": {},
   "outputs": [
    {
     "data": {
      "text/plain": [
       "1.2386666666666666"
      ]
     },
     "execution_count": 29,
     "metadata": {},
     "output_type": "execute_result"
    }
   ],
   "source": [
    "# Sample mean\n",
    "sample_mean = np.mean(data)\n",
    "sample_mean"
   ]
  },
  {
   "cell_type": "code",
   "execution_count": 30,
   "id": "02e04eee",
   "metadata": {},
   "outputs": [
    {
     "data": {
      "text/plain": [
       "0.2"
      ]
     },
     "execution_count": 30,
     "metadata": {},
     "output_type": "execute_result"
    }
   ],
   "source": [
    "# Known population standard deviation \n",
    "pop_std_dev = 0.2\n",
    "pop_std_dev"
   ]
  },
  {
   "cell_type": "code",
   "execution_count": 31,
   "id": "6418b2f2",
   "metadata": {},
   "outputs": [
    {
     "data": {
      "text/plain": [
       "2.5758293035489004"
      ]
     },
     "execution_count": 31,
     "metadata": {},
     "output_type": "execute_result"
    }
   ],
   "source": [
    "# z-value for 99% confidence\n",
    "z_value = stats.norm.ppf(1 - 0.005)\n",
    "z_value"
   ]
  },
  {
   "cell_type": "code",
   "execution_count": 32,
   "id": "73fc2e41",
   "metadata": {},
   "outputs": [
    {
     "data": {
      "text/plain": [
       "0.13301525327090588"
      ]
     },
     "execution_count": 32,
     "metadata": {},
     "output_type": "execute_result"
    }
   ],
   "source": [
    "# Margin of Error\n",
    "ME_2 = z_value * (pop_std_dev / np.sqrt(n))\n",
    "ME_2"
   ]
  },
  {
   "cell_type": "code",
   "execution_count": 36,
   "id": "c336cb1d",
   "metadata": {},
   "outputs": [
    {
     "data": {
      "text/plain": [
       "(1.1056514133957607, 1.3716819199375725)"
      ]
     },
     "execution_count": 36,
     "metadata": {},
     "output_type": "execute_result"
    }
   ],
   "source": [
    "# 99% Confidence Interval\n",
    "CI_2 = (sample_mean - ME_2 , sample_mean + ME_2)\n",
    "CI_2"
   ]
  },
  {
   "cell_type": "code",
   "execution_count": 37,
   "id": "a74efe39",
   "metadata": {},
   "outputs": [
    {
     "name": "stdout",
     "output_type": "stream",
     "text": [
      "Sample Mean: 1.2386666666666666\n",
      "Population Standard Deviation: 0.2\n",
      "99% Confidence Interval (using known population standard deviation): (1.1056514133957607, 1.3716819199375725)\n"
     ]
    }
   ],
   "source": [
    "print(\"Sample Mean:\", sample_mean)\n",
    "print(\"Population Standard Deviation:\", pop_std_dev)\n",
    "print(\"99% Confidence Interval (using known population standard deviation):\", CI_2)"
   ]
  }
 ],
 "metadata": {
  "kernelspec": {
   "display_name": "Python 3 (ipykernel)",
   "language": "python",
   "name": "python3"
  },
  "language_info": {
   "codemirror_mode": {
    "name": "ipython",
    "version": 3
   },
   "file_extension": ".py",
   "mimetype": "text/x-python",
   "name": "python",
   "nbconvert_exporter": "python",
   "pygments_lexer": "ipython3",
   "version": "3.11.5"
  }
 },
 "nbformat": 4,
 "nbformat_minor": 5
}
