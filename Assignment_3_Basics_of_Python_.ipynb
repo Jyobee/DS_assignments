{
 "cells": [
  {
   "cell_type": "markdown",
   "id": "7d15d783",
   "metadata": {},
   "source": [
    "# Python Programming Assignment"
   ]
  },
  {
   "cell_type": "markdown",
   "id": "a18a830a",
   "metadata": {},
   "source": [
    "## Coding Exercises"
   ]
  },
  {
   "cell_type": "markdown",
   "id": "455e03c3",
   "metadata": {},
   "source": [
    "## Exercise 1: Prime Numbers\n",
    "### Write a Python program that checks whether a given number is prime or not. A prime number is a natural number greater than 1 that has no positive divisors other than 1 and itself."
   ]
  },
  {
   "cell_type": "code",
   "execution_count": null,
   "id": "08c5bd6b",
   "metadata": {},
   "outputs": [],
   "source": [
    "# Input from the user\n",
    "num = int(input(\"Enter a number to check if it's a prime number or not: \"))\n",
    "\n",
    "# Prime numbers are greater than 1\n",
    "if num <= 1:\n",
    "    print(f\"{num} is not a prime number!\")\n",
    "else:\n",
    "    for i in range(2,num):  # Checks for factors from 2 to number-1\n",
    "        if num % i == 0:\n",
    "            print(f\"{num} is not a prime number!\")\n",
    "            break\n",
    "    else:\n",
    "        print(f\"{num} is a prime number!\")\n",
    "\n",
    "\n"
   ]
  },
  {
   "cell_type": "code",
   "execution_count": null,
   "id": "b4548b97",
   "metadata": {},
   "outputs": [],
   "source": []
  },
  {
   "cell_type": "markdown",
   "id": "5aea9f4a",
   "metadata": {},
   "source": [
    "## Exercise 2: Product of Random Numbers\n",
    "### Develop a Python program that generates two random numbers and asks the user to enter the product of these numbers. The program should then check if the user's answer is correct and display an appropriate message."
   ]
  },
  {
   "cell_type": "code",
   "execution_count": null,
   "id": "df22d7d8",
   "metadata": {},
   "outputs": [],
   "source": [
    "import random\n",
    "\n",
    "# to generate two random integers between 1 and 100\n",
    "num1= random.randint(0,100)\n",
    "num2= random.randint(0,100)\n",
    "\n",
    "# to calculate the correct answer\n",
    "corr_ans = num1*num2\n",
    "\n",
    "# to ask the user to enter the product of these 2 numbers\n",
    "user_ans= int(input(f\"Enter the product of {num1} and {num2} : \"))\n",
    "\n",
    "# to check if the answer is right \n",
    "if user_ans == corr_ans:\n",
    "    print(\"Your answer is correct!\")\n",
    "else:\n",
    "    print(f\"your answer is incorrect! The correct answer is {corr_ans}!\")\n"
   ]
  },
  {
   "cell_type": "code",
   "execution_count": null,
   "id": "87ec02c5",
   "metadata": {},
   "outputs": [],
   "source": []
  },
  {
   "cell_type": "markdown",
   "id": "25cbfa66",
   "metadata": {},
   "source": [
    "## Exercise 3: Squares of Even/Odd Numbers\n",
    "### Create a Python script that prints the squares of all even or odd numbers within the range of 100 to 200. Choose either even or odd numbers and document your choice in the code."
   ]
  },
  {
   "cell_type": "code",
   "execution_count": null,
   "id": "5f8d0e93",
   "metadata": {},
   "outputs": [],
   "source": [
    "# to get user's choice for odd or even\n",
    "choice= input(\"Do you want to print squares of even or odd numbers?\")\n",
    "\n",
    "# to iterate the squares of all even or odd numbers in the range 100-200 based on user's choice\n",
    "for num in range(100,201):\n",
    "    if choice== \"even\" and num % 2 == 0:\n",
    "        print(f\"squares of {num}: {num**2}\")\n",
    "    elif choice== \"odd\" and num % 2 != 0:\n",
    "        print(f\"squares of {num}: {num**2}\")\n",
    "    \n"
   ]
  },
  {
   "cell_type": "code",
   "execution_count": null,
   "id": "388c9ba7",
   "metadata": {},
   "outputs": [],
   "source": []
  },
  {
   "cell_type": "markdown",
   "id": "83ea46d3",
   "metadata": {},
   "source": [
    "## Exercise 4: Word counter\n",
    "### Write a program to count the number of words in a given text.\n",
    "### example: input_text = \"This is a sample text. This text will be used to demonstrate the word counter.\"\n",
    "### expected output: --->'This': 2 , 'is': 1, 'a': 1, 'sample': 1, 'text.': 1"
   ]
  },
  {
   "cell_type": "code",
   "execution_count": null,
   "id": "c6fbed7f",
   "metadata": {},
   "outputs": [],
   "source": [
    "# to get the text from the user \n",
    "input_text= input(\"Enter the Text :- \")\n",
    "\n",
    "#split the text into words\n",
    "words= input_text.split()\n",
    "\n",
    "# Create a dictionary to store word counts\n",
    "word_count = {}\n",
    "\n",
    "# to count the occurrence of each word in the text\n",
    "for word in words:\n",
    "    if word in word_count:\n",
    "        word_count[word] += 1\n",
    "    else:\n",
    "        word_count[word] = 1\n",
    "\n",
    "# to print the count of words\n",
    "for word in word_count:\n",
    "    print(word + \":\" + str(word_count[word]))"
   ]
  },
  {
   "cell_type": "code",
   "execution_count": null,
   "id": "b7016994",
   "metadata": {},
   "outputs": [],
   "source": []
  },
  {
   "cell_type": "markdown",
   "id": "2bc5cf39",
   "metadata": {},
   "source": [
    "## Exercise 5: Check for Palindrome\n",
    "### Write a Python function called is_palindrome that takes a string as input and returns True if the string is a palindrome, and False otherwise. A palindrome is a word, phrase, number, or other sequence of characters that reads the same forward and backward, ignoring spaces, punctuation, and capitalization.\n",
    "### Example:--> Input: \"racecar\" &  Expected Output: True"
   ]
  },
  {
   "cell_type": "code",
   "execution_count": null,
   "id": "90ef90c3",
   "metadata": {},
   "outputs": [],
   "source": [
    "def is_palindrome(input_str):\n",
    "    # to initialize an empty string to store cleaned string\n",
    "    clear_str = \"\"\n",
    "    \n",
    "    # to Iterate over each character in the input string\n",
    "    for char in input_str:\n",
    "        if char.isalnum():\n",
    "            clear_str += char.lower() # Add alphanumeric characters to the cleared string in lowercase\n",
    "            \n",
    "    return clear_str == clear_str[::-1]\n",
    "    \n",
    "# to get the string input from the user    \n",
    "input_str = input(\"Please give the input: \")\n",
    "# calls the function to check for palindrome and to print the result\n",
    "print(\"Output: \",is_palindrome(input_str))"
   ]
  },
  {
   "cell_type": "code",
   "execution_count": null,
   "id": "9fb5c14b",
   "metadata": {},
   "outputs": [],
   "source": []
  }
 ],
 "metadata": {
  "kernelspec": {
   "display_name": "Python 3 (ipykernel)",
   "language": "python",
   "name": "python3"
  },
  "language_info": {
   "codemirror_mode": {
    "name": "ipython",
    "version": 3
   },
   "file_extension": ".py",
   "mimetype": "text/x-python",
   "name": "python",
   "nbconvert_exporter": "python",
   "pygments_lexer": "ipython3",
   "version": "3.11.5"
  }
 },
 "nbformat": 4,
 "nbformat_minor": 5
}
