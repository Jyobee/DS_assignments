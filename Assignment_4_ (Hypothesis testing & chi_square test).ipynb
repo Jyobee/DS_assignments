{
 "cells": [
  {
   "cell_type": "markdown",
   "id": "93bb162a",
   "metadata": {},
   "source": [
    "# 1. HYPOTHESIS TESTING"
   ]
  },
  {
   "cell_type": "markdown",
   "id": "bf027d8d",
   "metadata": {},
   "source": [
    "## Background:-\n",
    "### Bombay hospitality Ltd. operates a franchise model for producing exotic Norwegian dinners throughout New England. The operating cost for a franchise in a week (W) is given by the equation W = $1,000 + $5X, where X represents the number of units produced in a week. Recent feedback from restaurant owners suggests that this cost model may no longer be accurate, as their observed weekly operating costs are higher."
   ]
  },
  {
   "cell_type": "markdown",
   "id": "154cc954",
   "metadata": {},
   "source": [
    "## Objective:-\n",
    "### To investigate the restaurant owners' claim about the increase in weekly operating costs using hypothesis testing."
   ]
  },
  {
   "cell_type": "markdown",
   "id": "605ac4e9",
   "metadata": {},
   "source": [
    "## Data Provided:\n",
    "### 1.The theoretical weekly operating cost model: W = $1,000 + $5X\n",
    "### 2.Sample of 25 restaurants with a mean weekly cost of Rs. 3,050\n",
    "### 3.Number of units produced in a week (X) follows a normal distribution with a mean (μ) of 600 units and a standard deviation (σ) of 25 units"
   ]
  },
  {
   "cell_type": "markdown",
   "id": "7fb92847",
   "metadata": {},
   "source": [
    "## Assignment Tasks:-\n",
    "### 1. State the Hypotheses statement:"
   ]
  },
  {
   "cell_type": "code",
   "execution_count": null,
   "id": "84322784",
   "metadata": {},
   "outputs": [],
   "source": [
    "# Null Hypothesis (H0): The mean weekly operating cost is equal to the theoretical cost predicted by the model.\n",
    "H0 = \"𝜇 actual(mean weekly cost) = 𝜇 theoretical(1000*5*600)\"\n",
    "\n",
    "# Alternative Hypothesis (H1): The mean weekly operating cost is higher than the theoretical cost predicted by the model.\n",
    "H1 = \"𝜇 actual(mean weekly cost) > 𝜇 theoretical(1000*5*600)\""
   ]
  },
  {
   "cell_type": "markdown",
   "id": "5092bd9a",
   "metadata": {},
   "source": [
    "### 2. Calculate the Test Statistic:"
   ]
  },
  {
   "cell_type": "code",
   "execution_count": null,
   "id": "d0519db9",
   "metadata": {},
   "outputs": [],
   "source": [
    "import scipy.stats as stats\n",
    "import numpy as np"
   ]
  },
  {
   "cell_type": "code",
   "execution_count": null,
   "id": "8676b71c",
   "metadata": {},
   "outputs": [],
   "source": [
    "# Given data\n",
    "n = 25  # Sample size\n",
    "sample_mean = 3050  # Sample mean weekly cost\n",
    "std_dev_sigma = 25*5  # Standard deviation of weekly costs\n",
    "X_mean = 600  # Mean number of units produced"
   ]
  },
  {
   "cell_type": "code",
   "execution_count": null,
   "id": "6e5903ff",
   "metadata": {},
   "outputs": [],
   "source": [
    "# Calculating the theoretical mean weekly cost (W = $1,000 + $5X for X = 600 units)\n",
    "theoretical_mean = 1000 + 5 * X_mean\n",
    "theoretical_mean"
   ]
  },
  {
   "cell_type": "code",
   "execution_count": null,
   "id": "f1108683",
   "metadata": {},
   "outputs": [],
   "source": [
    "# Calculate the test statistic\n",
    "t_statistic = (sample_mean - theoretical_mean) / (std_dev_sigma / np.sqrt(n))\n",
    "t_statistic"
   ]
  },
  {
   "cell_type": "markdown",
   "id": "8571b3ee",
   "metadata": {},
   "source": [
    "### 3. Determine the Critical Value:"
   ]
  },
  {
   "cell_type": "code",
   "execution_count": null,
   "id": "d6420be5",
   "metadata": {},
   "outputs": [],
   "source": [
    "# For a one-tailed test at α = 0.05, the critical value 𝑍 (0.05) is 1.645.\n",
    "\n",
    "# Determining the critical value manually (one-tailed test)\n",
    "alpha = 0.05\n",
    "critical_value = stats.norm.ppf(1 - alpha).round(4)\n",
    "critical_value"
   ]
  },
  {
   "cell_type": "markdown",
   "id": "abe4fb4c",
   "metadata": {},
   "source": [
    "### 4. Make a Decision:"
   ]
  },
  {
   "cell_type": "code",
   "execution_count": null,
   "id": "f2328498",
   "metadata": {},
   "outputs": [],
   "source": [
    "if t_statistic > critical_value:\n",
    "    print(f\"Null hypothesis(H0) is rejected therefore {H1}\")\n",
    "else:\n",
    "    print(f\"Fail to reject the Null hypothesis(H0), therefore {H0}\")"
   ]
  },
  {
   "cell_type": "markdown",
   "id": "55800c0e",
   "metadata": {},
   "source": [
    "### 5. Conclusion:"
   ]
  },
  {
   "cell_type": "code",
   "execution_count": null,
   "id": "b10e784c",
   "metadata": {},
   "outputs": [],
   "source": [
    "print(\"Conclusion:- \")\n",
    "print(\"The Test statistic is lesser than the critical value, which indicates that there is not enough evidence to reject the null hypothesis.\") \n",
    "print(\"Based on this analysis, there is no strong evidence to support the claim that weekly operating costs are higher than the model suggests.\")"
   ]
  },
  {
   "cell_type": "code",
   "execution_count": null,
   "id": "c34385fa",
   "metadata": {},
   "outputs": [],
   "source": []
  },
  {
   "cell_type": "markdown",
   "id": "f4962165",
   "metadata": {},
   "source": [
    "# 2. Chi-Square test"
   ]
  },
  {
   "cell_type": "markdown",
   "id": "6f277782",
   "metadata": {},
   "source": [
    "## Association between Device Type and Customer Satisfaction"
   ]
  },
  {
   "cell_type": "markdown",
   "id": "e96e98b0",
   "metadata": {},
   "source": [
    "## Background:-\n",
    "### Mizzare Corporation has collected data on customer satisfaction levels for two types of smart home devices: Smart Thermostats and Smart Lights. They want to determine if there's a significant association between the type of device purchased and the customer's satisfaction level."
   ]
  },
  {
   "cell_type": "markdown",
   "id": "c76737de",
   "metadata": {},
   "source": [
    "## Objective:-\n",
    "### To use the Chi-Square test for independence to determine if there's a significant association between the type of smart home device purchased (Smart Thermostats vs. Smart Lights) and the customer satisfaction level."
   ]
  },
  {
   "cell_type": "markdown",
   "id": "e69b5461",
   "metadata": {},
   "source": [
    "## Assignment Tasks:-\n",
    "### 1. State the Hypotheses:"
   ]
  },
  {
   "cell_type": "code",
   "execution_count": null,
   "id": "e3dbd9d2",
   "metadata": {},
   "outputs": [],
   "source": [
    "# Null Hypothesis (H0):  \n",
    "H0 = \"There's no association between the type of smart home device (Smart Thermostats vs. Smart Lights) and customer satisfaction level\"\n",
    "\n",
    "# Alternative Hypothesis (H1):\n",
    "H1 = \"There's a significant association between the type of smart home device (Smart Thermostats vs. Smart Lights) and customer satisfaction level\""
   ]
  },
  {
   "cell_type": "markdown",
   "id": "4c29f464",
   "metadata": {},
   "source": [
    "### 2. Compute the Chi-Square Statistic:"
   ]
  },
  {
   "cell_type": "code",
   "execution_count": null,
   "id": "7ce99a8c",
   "metadata": {},
   "outputs": [],
   "source": [
    "import numpy as np\n",
    "import scipy.stats as stats\n",
    "\n",
    "# Observed frequencies (O)\n",
    "observed_o = np.array([[50, 70],[80, 100],[60, 90],[30, 50],[20, 50]])\n",
    "observed_o "
   ]
  },
  {
   "cell_type": "code",
   "execution_count": null,
   "id": "f64388db",
   "metadata": {},
   "outputs": [],
   "source": [
    "# Rows and columns total\n",
    "row_total = observed_o.sum(axis=1)\n",
    "col_total = observed_o.sum(axis=0)\n",
    "grand_total = observed_o.sum()\n",
    "row_total,col_total,grand_total"
   ]
  },
  {
   "cell_type": "code",
   "execution_count": null,
   "id": "fd253bc0",
   "metadata": {},
   "outputs": [],
   "source": [
    "# Initialize the expected frequencies array\n",
    "expected_e = np.zeros_like(observed_o, dtype=float)\n",
    "expected_e"
   ]
  },
  {
   "cell_type": "code",
   "execution_count": null,
   "id": "a63265c8",
   "metadata": {},
   "outputs": [],
   "source": [
    "# Compute expected frequencies using loops\n",
    "for i in range(observed_o.shape[0]):\n",
    "    for j in range(observed_o.shape[1]):\n",
    "        expected_e[i, j] = (row_total[i] * col_total[j]) / grand_total\n",
    "expected_e        "
   ]
  },
  {
   "cell_type": "code",
   "execution_count": null,
   "id": "d51bbc96",
   "metadata": {},
   "outputs": [],
   "source": [
    "# Chi-Square statistic\n",
    "chi_square_statistic = (((observed_o - expected_e) ** 2) / expected_e).sum()\n",
    "chi_square_statistic"
   ]
  },
  {
   "cell_type": "markdown",
   "id": "f1898589",
   "metadata": {},
   "source": [
    "### 3. Determine the Critical Value:"
   ]
  },
  {
   "cell_type": "code",
   "execution_count": null,
   "id": "a6e9658b",
   "metadata": {},
   "outputs": [],
   "source": [
    "#degree of freedom\n",
    "df= (observed_o.shape[0] - 1) * (expected_e.shape[1] -1)\n",
    "df"
   ]
  },
  {
   "cell_type": "code",
   "execution_count": null,
   "id": "0ae6014d",
   "metadata": {},
   "outputs": [],
   "source": [
    "# Critical value for the chi-square distribution\n",
    "alpha = 0.05\n",
    "critical_value = stats.chi2.ppf(1 - alpha, df)\n",
    "critical_value"
   ]
  },
  {
   "cell_type": "markdown",
   "id": "927eba13",
   "metadata": {},
   "source": [
    "### 4. Make a Decision:"
   ]
  },
  {
   "cell_type": "code",
   "execution_count": null,
   "id": "7687eb84",
   "metadata": {},
   "outputs": [],
   "source": [
    "if chi_square_statistic > critical_value:\n",
    "    print(f\"Reject the null hypothesis: {H1}.\")\n",
    "else:\n",
    "    print(f\"Fail to reject the null hypothesis: {H0}.\")\n"
   ]
  }
 ],
 "metadata": {
  "kernelspec": {
   "display_name": "Python 3 (ipykernel)",
   "language": "python",
   "name": "python3"
  },
  "language_info": {
   "codemirror_mode": {
    "name": "ipython",
    "version": 3
   },
   "file_extension": ".py",
   "mimetype": "text/x-python",
   "name": "python",
   "nbconvert_exporter": "python",
   "pygments_lexer": "ipython3",
   "version": "3.11.5"
  }
 },
 "nbformat": 4,
 "nbformat_minor": 5
}
