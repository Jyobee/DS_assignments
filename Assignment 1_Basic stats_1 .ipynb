{
 "cells": [
  {
   "cell_type": "markdown",
   "id": "bdd2ee47-fa2a-49af-b4ae-5bd7e14634d9",
   "metadata": {},
   "source": [
    "# BASIC STATISTICS 1\n",
    "### Descriptive Analytics and Data Preprocessing on Sales & Discounts Dataset"
   ]
  },
  {
   "cell_type": "markdown",
   "id": "965b4a0f-c0a7-4ee3-9094-8b1ee40a6da8",
   "metadata": {},
   "source": [
    "## Introduction:-\n",
    "### To perform descriptive analytics, visualize data distributions, and preprocess the dataset for further analysis."
   ]
  },
  {
   "cell_type": "markdown",
   "id": "0aa48f3a-528b-4c4d-8a0b-80c73e706d2e",
   "metadata": {},
   "source": [
    "## 1. Descriptive Analytics for Numerical Columns:-"
   ]
  },
  {
   "cell_type": "code",
   "execution_count": null,
   "id": "053ca3bd",
   "metadata": {},
   "outputs": [],
   "source": [
    "import pandas as pd\n",
    "import matplotlib.pyplot as plt"
   ]
  },
  {
   "cell_type": "markdown",
   "id": "0f4c9d81",
   "metadata": {},
   "source": [
    "### 1.a. Load the dataset"
   ]
  },
  {
   "cell_type": "code",
   "execution_count": null,
   "id": "f9703769",
   "metadata": {},
   "outputs": [],
   "source": [
    "df = pd.read_csv(\"sales_data_with_discounts.csv\")\n",
    "df"
   ]
  },
  {
   "cell_type": "code",
   "execution_count": null,
   "id": "5ce1b4ad",
   "metadata": {},
   "outputs": [],
   "source": [
    "df.head()"
   ]
  },
  {
   "cell_type": "code",
   "execution_count": null,
   "id": "5c61962e",
   "metadata": {},
   "outputs": [],
   "source": [
    "df.shape, df.size"
   ]
  },
  {
   "cell_type": "markdown",
   "id": "854c7fcf",
   "metadata": {},
   "source": [
    "### 1.b. Identify numerical columns"
   ]
  },
  {
   "cell_type": "code",
   "execution_count": null,
   "id": "5283c9bb",
   "metadata": {},
   "outputs": [],
   "source": [
    "df.dtypes"
   ]
  },
  {
   "cell_type": "code",
   "execution_count": null,
   "id": "869a93ca",
   "metadata": {},
   "outputs": [],
   "source": [
    "df.info()  # another method to know datatypes of the columns"
   ]
  },
  {
   "cell_type": "code",
   "execution_count": null,
   "id": "1613a63f",
   "metadata": {},
   "outputs": [],
   "source": [
    "numerical_col = pd.concat([df.iloc[:,4:5], df.iloc[:,8:14]], axis=1)\n",
    "numerical_col"
   ]
  },
  {
   "cell_type": "markdown",
   "id": "28962f27",
   "metadata": {},
   "source": [
    "### 1.c. Calculate mean, median, mode, std deviation of numerical columns manually"
   ]
  },
  {
   "cell_type": "code",
   "execution_count": null,
   "id": "287d46e3",
   "metadata": {},
   "outputs": [],
   "source": [
    "mean_values = numerical_col.mean()\n",
    "median_values = numerical_col.median()\n",
    "std_values = numerical_col.std()\n",
    "mode_values = numerical_col.mode().iloc[0]  # Get the first mode if there are multiple modes"
   ]
  },
  {
   "cell_type": "code",
   "execution_count": null,
   "id": "baa5a500",
   "metadata": {},
   "outputs": [],
   "source": [
    "stats_summary = pd.DataFrame({\n",
    "    'Mean': mean_values,\n",
    "    'Median': median_values,\n",
    "    'Mode': mode_values,\n",
    "    'Std_Dev': std_values})\n",
    "\n",
    "stats_summary"
   ]
  },
  {
   "cell_type": "markdown",
   "id": "bbc98817",
   "metadata": {},
   "source": [
    "### 1.d. Brief interpretation of these statistics\n"
   ]
  },
  {
   "cell_type": "code",
   "execution_count": null,
   "id": "95d7df70",
   "metadata": {},
   "outputs": [],
   "source": [
    "# VOLUME:-\n",
    "# The average volume sold is around 5 units, with a typical sale being 4 units.The mode indicates that 3 units were the most frequently sold quantity.\n",
    "# The standard deviation suggests some variability in the volume sold, but not excessively high."
   ]
  },
  {
   "cell_type": "code",
   "execution_count": null,
   "id": "ecb6a299",
   "metadata": {},
   "outputs": [],
   "source": [
    "# AVG PRICE:-\n",
    "# The average price is around RS.10,453, but the median price is significantly lower at RS.1,450, indicating a right-skewed distribution with some high-priced outliers.\n",
    "# The high standard deviation supports this observation."
   ]
  },
  {
   "cell_type": "code",
   "execution_count": null,
   "id": "56ac914e",
   "metadata": {},
   "outputs": [],
   "source": [
    "# TOTAL SALES VALUE:-\n",
    "# The mean total sales value is RS.33,813, with a median of RS.5,700, indicating that most sales are lower, but a few large transactions are pulling the average up.\n",
    "# The high standard deviation further confirms the presence of high variability in sales values.\n"
   ]
  },
  {
   "cell_type": "code",
   "execution_count": null,
   "id": "61f4eeed",
   "metadata": {},
   "outputs": [],
   "source": [
    "# DISCOUNT RATE:-\n",
    "# The average discount rate is about 15%, with the most common rate being just over 5%. \n",
    "# The median is slightly higher than the mean, suggesting a slight left-skew.The variability is moderate."
   ]
  },
  {
   "cell_type": "code",
   "execution_count": null,
   "id": "3b4f645a",
   "metadata": {},
   "outputs": [],
   "source": [
    "# DISCOUNT AMOUNT:-\n",
    "# The mean discount amount is RS.3,346, but the median is significantly lower at RS.989, indicating a right-skewed distribution with some large discounts.\n",
    "# The high standard deviation indicates significant variability in discount amounts."
   ]
  },
  {
   "cell_type": "code",
   "execution_count": null,
   "id": "def1de8d",
   "metadata": {},
   "outputs": [],
   "source": [
    "# NET SALES VALUE\n",
    "# The net sales value shows a similar pattern as the total sales value, with a mean much higher than the median due to some high-value transactions.\n",
    "# The large standard deviation indicates a wide range of net sales values."
   ]
  },
  {
   "cell_type": "markdown",
   "id": "aa388e70",
   "metadata": {},
   "source": [
    "## 2. Data Visualization:-"
   ]
  },
  {
   "cell_type": "markdown",
   "id": "1b93d05e",
   "metadata": {},
   "source": [
    "### 2.a. Histogram for numerical columns"
   ]
  },
  {
   "cell_type": "code",
   "execution_count": null,
   "id": "0396c672",
   "metadata": {},
   "outputs": [],
   "source": [
    "# Plotting histogram for numerical columns\n",
    "numerical_col.hist(bins=15, figsize=(15, 15), layout=(3, 2), color='red', edgecolor='black')\n",
    "plt.tight_layout()\n",
    "plt.show()"
   ]
  },
  {
   "cell_type": "code",
   "execution_count": null,
   "id": "05c7e183",
   "metadata": {},
   "outputs": [],
   "source": [
    "skewness_values = numerical_col.skew()\n",
    "skewness_values"
   ]
  },
  {
   "cell_type": "code",
   "execution_count": null,
   "id": "c4881d0f",
   "metadata": {},
   "outputs": [],
   "source": [
    "peakness_values = numerical_col.kurt()\n",
    "peakness_values"
   ]
  },
  {
   "cell_type": "code",
   "execution_count": null,
   "id": "a10fea04",
   "metadata": {},
   "outputs": [],
   "source": [
    "# Inferences after analyzing the distribution:-\n",
    "\n",
    "# 1.Volume:\n",
    "# The distribution is right-skewed, with most sales volumes being on the lower end. \n",
    "# There are a few instances of higher volumes, but these are rare.\n",
    "\n",
    "# 2.Avg Price:\n",
    "# The distribution is heavily right-skewed, with a large number of data points at lower price ranges and a long tail extending towards higher prices.\n",
    "# This indicates the presence of a few high-priced items.\n",
    "\n",
    "# 3.Total Sales Value:\n",
    "# Similar to Avg Price, the Total Sales Value is right-skewed. Most sales transactions are lower in value, with a few high-value outliers.\n",
    "\n",
    "# 4.Discount Rate (%):\n",
    "# The distribution is slightly left-skewed, with most discount rates concentrated around 15-20%. Lower discount rates are less common.\n",
    "\n",
    "# 5.Discount Amount:\n",
    "# The distribution is right-skewed, with many lower discount amounts and a few high-value discounts.\n",
    "\n",
    "# 6.Net Sales Value:\n",
    "# The Net Sales Value distribution is also right-skewed, with most transactions being on the lower end and a few high-value sales.\n"
   ]
  },
  {
   "cell_type": "markdown",
   "id": "54a12731",
   "metadata": {},
   "source": [
    "### 2.b. Boxplot for numerical columns"
   ]
  },
  {
   "cell_type": "code",
   "execution_count": null,
   "id": "8836f3e2",
   "metadata": {},
   "outputs": [],
   "source": [
    "# Plotting boxplot for numerical columns\n",
    "plt.figure(figsize=(15, 15))\n",
    "for i, col in enumerate(numerical_col, 1):\n",
    "    plt.subplot(3, 2, i)\n",
    "    df.boxplot(column= col)\n",
    "    plt.title(f'Boxplot of {col}')\n",
    "plt.tight_layout()\n",
    "plt.show()"
   ]
  },
  {
   "cell_type": "code",
   "execution_count": null,
   "id": "b9d12bdc-d0c7-43f6-9a89-3a9aba5c68e0",
   "metadata": {},
   "outputs": [],
   "source": [
    "# Idenfying outliers and Interquartile range\n",
    "\n",
    "outliers_info = {}\n",
    "for col in numerical_col:\n",
    "    Q1 = df[col].quantile(0.25)\n",
    "    Q3 = df[col].quantile(0.75)\n",
    "    IQR = Q3 - Q1\n",
    "    lower_bound = Q1 - 1.5 * IQR\n",
    "    upper_bound = Q3 + 1.5 * IQR\n",
    "    \n",
    "    # Identify outliers\n",
    "    outliers = df[(df[col] < lower_bound) | (df[col] > upper_bound)]\n",
    "    \n",
    "    # Store the outlier information\n",
    "    outliers_info[col] = {\n",
    "        'IQR': IQR,\n",
    "        'Lower Bound': lower_bound,\n",
    "        'Upper Bound': upper_bound,\n",
    "        'Number of Outliers': outliers.shape[0],\n",
    "        'Outliers': outliers[col].tolist()\n",
    "    }\n",
    "outliers_info"
   ]
  },
  {
   "cell_type": "code",
   "execution_count": null,
   "id": "b0c43010",
   "metadata": {},
   "outputs": [],
   "source": [
    "## Discuss any findings, such as extreme values or unusual distributions:-\n",
    "\n",
    "# 1.Volume:\n",
    "# Several values exceed the upper limit 10.5, indicating that certain transactions involve unusually large volumes,\n",
    "# which may be due to bulk orders or promotional sales.\n",
    "\n",
    "# 2.Avg Price:\n",
    "# High outliers above the upper bound Rs.24,552 indicating the presence of premium-priced products in the dataset, \n",
    "# which could be top-tier models or limited editions.\n",
    "\n",
    "# 3.Total Sales Value: \n",
    "# The presence of outliers above 128,950 suggests that some transactions involve high sales values.\n",
    "\n",
    "# 4.Discount Rate (%):\n",
    "# Both low and high discount rates create outliers, indicating variability in discounting strategies\n",
    "\n",
    "# 5.Discount Amount: \n",
    "# High outliers suggest that some transactions involved significant discounts, as part of a sales promotion or clearance event.\n",
    "\n",
    "# 6.Net Sales Value: \n",
    "# High outliers in net sales value aligns with the trends in volume, average price, and total sales value, \n",
    "# indicating large transactions with substantial net revenue \n"
   ]
  },
  {
   "cell_type": "markdown",
   "id": "e3d0b2a0",
   "metadata": {},
   "source": [
    "### 2.c. Bar Chart Analysis for Categorical Columns"
   ]
  },
  {
   "cell_type": "code",
   "execution_count": null,
   "id": "f499fc86",
   "metadata": {},
   "outputs": [],
   "source": [
    "# To get the categorical columns\n",
    "categorical_col = pd.concat([df.iloc[:,:4], df.iloc[:,5:8]], axis=1)\n",
    "categorical_col"
   ]
  },
  {
   "cell_type": "code",
   "execution_count": null,
   "id": "5cb26b31",
   "metadata": {},
   "outputs": [],
   "source": [
    "# Plotting bar charts for categorical columns\n",
    "\n",
    "plt.figure(figsize=(15, 20))\n",
    "\n",
    "for i, col in enumerate(categorical_col, 1):\n",
    "    plt.subplot(4, 2, i)\n",
    "    df[col].value_counts().plot(kind='bar')\n",
    "    plt.title(f'Bar Chart of {col}')\n",
    "    plt.xlabel(col)\n",
    "    plt.ylabel('Frequency')\n",
    "\n",
    "plt.tight_layout()\n",
    "plt.show()"
   ]
  },
  {
   "cell_type": "code",
   "execution_count": null,
   "id": "5d2ede9a",
   "metadata": {},
   "outputs": [],
   "source": [
    "# Analyze the distribution of categories and provide insights\n",
    "\n",
    "# Day:\n",
    "# Thursday has the highest frequency of transactions. The remaining days have similar transaction frequencies, but all are lower than Thursday. \n",
    "# This suggests that Thursdays are particularly strong for sales, possibly due to promotional events, customer purchasing habits on that day.\n",
    "\n",
    "# SKU:\n",
    "# shows an equal frequency across all SKUs. This suggests that each SKU has been sold the same number of times in the dataset. \n",
    "# This could indicate a balanced inventory strategy where all products are equally promoted or purchased.\n",
    "\n",
    "# City:\n",
    "# Indicates that all transactions occurred in a single city. Suggests that the sales data is from a single location, \n",
    "# or a dataset that only includes one city's sales.\n",
    "\n",
    "# BU (Business Unit):\n",
    "# All three categories(Mobiles, FMCG, and Lifestyle) have similar frequencies, each around 150.\n",
    "# This suggests an even distribution of products or sales across these three business units.\n",
    "\n",
    "# Brand:\n",
    "# The top brands are: Jerra (highest frequency, around 90), Gear and Viva (both around 60), RealU, YolM, Babaji, Nedic (all around 45-50), Sumsang and Orange (both around 30)\n",
    "# This indicates that Jerra is the top brand, followed by Gear and Viva, with the others having lower but relatively similar frequencies.\n",
    "\n",
    "# Model:\n",
    "# Shows a large number of models, all with the same frequency of about 15. \n",
    "# The uniform height of the bars suggests that each model has an equal distribution in the dataset.\n"
   ]
  },
  {
   "cell_type": "markdown",
   "id": "6508faa7",
   "metadata": {},
   "source": [
    "## 3. Standardization of Numerical Variables"
   ]
  },
  {
   "cell_type": "markdown",
   "id": "a520d3ac",
   "metadata": {},
   "source": [
    "### 3.a. Explain the concept of standardization (z-score normalization)."
   ]
  },
  {
   "cell_type": "code",
   "execution_count": null,
   "id": "b1d74df5",
   "metadata": {},
   "outputs": [],
   "source": [
    "# Standardization, also known as z-score normalization.\n",
    "# It is a technique used to transform the values of a dataset to have a mean of zero and a standard deviation of one."
   ]
  },
  {
   "cell_type": "markdown",
   "id": "f0a13623",
   "metadata": {},
   "source": [
    "### 3.b. Standardize the numerical columns using z-score formula [z= (x−μ)/σ ]"
   ]
  },
  {
   "cell_type": "code",
   "execution_count": null,
   "id": "398872d3",
   "metadata": {},
   "outputs": [],
   "source": [
    "# Steps:-\n",
    "# Calculate the mean and standard deviation for each numerical column.\n",
    "# Apply the z-score formula [z= (x−μ)/σ ] to each value in these columns.\n",
    "\n",
    "numerical_col_std = numerical_col.copy()\n",
    "\n",
    "for col in numerical_col:\n",
    "    mean = df[col].mean()\n",
    "    std = df[col].std()\n",
    "    numerical_col_std[col] = (df[col] - mean) / std\n",
    "    \n",
    "numerical_col_std"
   ]
  },
  {
   "cell_type": "markdown",
   "id": "07829b04",
   "metadata": {},
   "source": [
    "### 3.c. Before and after comparisons of the data distributions"
   ]
  },
  {
   "cell_type": "code",
   "execution_count": null,
   "id": "ff13e2c4",
   "metadata": {},
   "outputs": [],
   "source": [
    "before_standardization = numerical_col.describe()\n",
    "after_standardization = numerical_col_std.describe()\n",
    "\n",
    "before_standardization"
   ]
  },
  {
   "cell_type": "code",
   "execution_count": null,
   "id": "c8851bf8",
   "metadata": {},
   "outputs": [],
   "source": [
    "after_standardization"
   ]
  },
  {
   "cell_type": "markdown",
   "id": "b9dcb1f5",
   "metadata": {},
   "source": [
    "## 4. Conversion of Categorical Data into Dummy Variables"
   ]
  },
  {
   "cell_type": "markdown",
   "id": "b7b0e832",
   "metadata": {},
   "source": [
    "### 4.a. Discuss the need for converting categorical data into dummy variables (one-hot encoding)."
   ]
  },
  {
   "cell_type": "code",
   "execution_count": null,
   "id": "c2f6d145",
   "metadata": {},
   "outputs": [],
   "source": [
    "# One-hot encoding converts categorical data into binary variables (dummy variables) that machine learning models can process.\n",
    "# Most machine learning algorithms require numerical input, therefore we need to perform one-hot encoding.\n",
    "# It prevents giving out an incorrect order or ranking among categories\n",
    "# One-hot encoding ensures that each category is represented independently"
   ]
  },
  {
   "cell_type": "markdown",
   "id": "3ced09f6",
   "metadata": {},
   "source": [
    "### 4.b. Apply one-hot encoding to the categorical columns"
   ]
  },
  {
   "cell_type": "code",
   "execution_count": null,
   "id": "397f856c",
   "metadata": {},
   "outputs": [],
   "source": [
    "# pd.get_dummies(categorical_col) # data will be in true Or false format\n",
    "cate_encoded = (pd.get_dummies(categorical_col)).astype(int)\n",
    "cate_encoded"
   ]
  },
  {
   "cell_type": "code",
   "execution_count": null,
   "id": "c564f1d4",
   "metadata": {},
   "outputs": [],
   "source": [
    "list(cate_encoded)"
   ]
  },
  {
   "cell_type": "markdown",
   "id": "9e41851f",
   "metadata": {},
   "source": [
    "### 4.c. Display a portion of the transformed dataset"
   ]
  },
  {
   "cell_type": "code",
   "execution_count": null,
   "id": "1c66f205-85f9-4cb4-b544-fa3db536aae1",
   "metadata": {},
   "outputs": [],
   "source": [
    "# Display a portion of the transformed dataset\n",
    "cate_encoded.head()"
   ]
  },
  {
   "cell_type": "code",
   "execution_count": null,
   "id": "5355704c",
   "metadata": {},
   "outputs": [],
   "source": [
    "# Now combining continuous standardized data and discrete label encoded data\n",
    "df_new = pd.concat([numerical_col_std,cate_encoded],axis=1)\n",
    "df_new.head()"
   ]
  },
  {
   "cell_type": "markdown",
   "id": "83761fcc",
   "metadata": {},
   "source": [
    "## 5. Conclusion"
   ]
  },
  {
   "cell_type": "markdown",
   "id": "fd074be8",
   "metadata": {},
   "source": [
    "### 5.a. Summarize the key findings from the descriptive analytics and data visualizations."
   ]
  },
  {
   "cell_type": "code",
   "execution_count": null,
   "id": "c05ae17b",
   "metadata": {},
   "outputs": [],
   "source": [
    "# Outliers and Distributions:\n",
    "# Several numerical variables (Volume, Avg Price, Total Sales Value, Discount Rate, Discount Amount, and Net Sales Value) exhibit significant outliers.\n",
    "# These outliers suggest that certain transactions involve high volumes, premium products, substantial discounts, or large net sales, likely due to specific marketing strategies or customer preferences.\n",
    "\n",
    "# Categorical Distributions:\n",
    "# The categorical analysis indicates that sales distribution is not uniform across days, SKUs, cities, business units, brands, and models.\n",
    "# These distributions can provide valuable insights for targeted marketing, inventory management, and regional sales strategies."
   ]
  },
  {
   "cell_type": "markdown",
   "id": "e4122983",
   "metadata": {},
   "source": [
    "### 5.b. Importance of data preprocessing steps like standardization and one-hot encoding in data analysis and machine learning."
   ]
  },
  {
   "cell_type": "code",
   "execution_count": null,
   "id": "a4fa2a8f",
   "metadata": {},
   "outputs": [],
   "source": [
    "# Both are crucial for improving model performance\n",
    "# Standardization is important because it ensures that all features/variables contribute equally to the model, especially when they're on different scales.\n",
    "# One-hot encoding is essential because most ML algorithms require numerical input, and one-hot encoding allows the model to use categorical data effectively. This avoids misinterpreting categorical values as ordinal or continuous."
   ]
  }
 ],
 "metadata": {
  "kernelspec": {
   "display_name": "Python 3 (ipykernel)",
   "language": "python",
   "name": "python3"
  },
  "language_info": {
   "codemirror_mode": {
    "name": "ipython",
    "version": 3
   },
   "file_extension": ".py",
   "mimetype": "text/x-python",
   "name": "python",
   "nbconvert_exporter": "python",
   "pygments_lexer": "ipython3",
   "version": "3.12.4"
  }
 },
 "nbformat": 4,
 "nbformat_minor": 5
}
